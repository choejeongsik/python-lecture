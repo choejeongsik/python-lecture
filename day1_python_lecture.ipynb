{
  "nbformat": 4,
  "nbformat_minor": 0,
  "metadata": {
    "colab": {
      "name": "day1 python lecture",
      "provenance": [],
      "authorship_tag": "ABX9TyP1pzBaUIa/0EvYBiQ2CptO",
      "include_colab_link": true
    },
    "kernelspec": {
      "name": "python3",
      "display_name": "Python 3"
    },
    "language_info": {
      "name": "python"
    }
  },
  "cells": [
    {
      "cell_type": "markdown",
      "metadata": {
        "id": "view-in-github",
        "colab_type": "text"
      },
      "source": [
        "<a href=\"https://colab.research.google.com/github/choejeongsik/python-lecture/blob/main/day1_python_lecture.ipynb\" target=\"_parent\"><img src=\"https://colab.research.google.com/assets/colab-badge.svg\" alt=\"Open In Colab\"/></a>"
      ]
    },
    {
      "cell_type": "markdown",
      "source": [
        "# **Day** **1** 자료형, 변수, 출력"
      ],
      "metadata": {
        "id": "mSz_kYASogMV"
      }
    },
    {
      "cell_type": "markdown",
      "source": [
        "# 실습"
      ],
      "metadata": {
        "id": "4QaMQENYpepu"
      }
    },
    {
      "cell_type": "code",
      "execution_count": null,
      "metadata": {
        "id": "Vw87EGQ1oGCn"
      },
      "outputs": [],
      "source": [
        "studentnum=2017113086\n",
        "print(studentnum)\n",
        "\n",
        "x=5\n",
        "y=6\n",
        "print(x+y)\n",
        "\n",
        "x=10\n",
        "y=11\n",
        "print(x+y,x+y)\n"
      ]
    },
    {
      "cell_type": "code",
      "source": [
        "x=input()\n",
        "print(x)\n",
        "\n",
        "x=input('문자를 입력히세요')\n",
        "print(x)\n",
        "\n",
        "x=int(input())\n",
        "print(x)"
      ],
      "metadata": {
        "id": "ZeunEleSqW_k"
      },
      "execution_count": null,
      "outputs": []
    },
    {
      "cell_type": "code",
      "source": [
        "list1=[]\n",
        "list2=[1,2,3]\n",
        "list3=[1,2,3,['life', 'good']]\n",
        "\n",
        "print(list1)\n",
        "print(list2)\n",
        "print(list3)\n",
        "\n",
        "\n",
        "print(list2[2])\n",
        "print(list3[2], list3[3][0][1])\n",
        "\n",
        "list2[0]=99\n",
        "print(list)\n",
        "\n",
        "list4=[11, 22, 33, 44]\n",
        "print(list4)\n",
        "\n",
        "list4[1:3]=[55,77]\n",
        "print(list4)\n",
        "\n",
        "list4.sort(reverse=True)\n",
        "print(list4)\n"
      ],
      "metadata": {
        "id": "xsJiH_nHrRzA"
      },
      "execution_count": null,
      "outputs": []
    },
    {
      "cell_type": "markdown",
      "source": [
        "# Example"
      ],
      "metadata": {
        "id": "jzPTXokmuEUE"
      }
    },
    {
      "cell_type": "markdown",
      "source": [
        "Example1\n",
        "\n",
        "학번을 출력해 보시오"
      ],
      "metadata": {
        "id": "6siNjpiOpXBi"
      }
    },
    {
      "cell_type": "code",
      "source": [
        "studentnum=2017113086\n",
        "print(studentnum)\n"
      ],
      "metadata": {
        "id": "7XiEUrQMrQEB"
      },
      "execution_count": null,
      "outputs": []
    },
    {
      "cell_type": "markdown",
      "source": [
        "Example2\n",
        "\n",
        "x에는 5를 넣고, y에는 6일 대입하고 합만을 출력하시오."
      ],
      "metadata": {
        "id": "flVKsPNht0k1"
      }
    },
    {
      "cell_type": "code",
      "source": [
        "x=5\n",
        "y=6\n",
        "print(x+y)"
      ],
      "metadata": {
        "colab": {
          "base_uri": "https://localhost:8080/"
        },
        "id": "6VYAaag1t_Xm",
        "outputId": "0852c95c-7f20-47f6-8038-70d95b4948e4"
      },
      "execution_count": 7,
      "outputs": [
        {
          "output_type": "stream",
          "name": "stdout",
          "text": [
            "11\n"
          ]
        }
      ]
    },
    {
      "cell_type": "markdown",
      "source": [
        "Example3\n",
        "\n",
        "x와 y에 값을 입력받고 합과 곱을 출력하시오."
      ],
      "metadata": {
        "id": "MuEhOdC7uTfS"
      }
    },
    {
      "cell_type": "code",
      "source": [
        "x=int(input())\n",
        "y=int(input())\n",
        "\n",
        "print(x+y)\n",
        "print(x*y)\n"
      ],
      "metadata": {
        "colab": {
          "base_uri": "https://localhost:8080/"
        },
        "id": "kOExiR_euge1",
        "outputId": "87715880-8dc9-4e1e-8ede-4c42d3131f8e"
      },
      "execution_count": 8,
      "outputs": [
        {
          "output_type": "stream",
          "name": "stdout",
          "text": [
            "11\n",
            "23\n",
            "34\n",
            "253\n"
          ]
        }
      ]
    },
    {
      "cell_type": "markdown",
      "source": [
        "Example4\n",
        "\n",
        "하나의 문자열을 입력받고 출력하는 프로그램을 생성하시오.\n"
      ],
      "metadata": {
        "id": "9SdU2TUBuu84"
      }
    },
    {
      "cell_type": "code",
      "source": [
        "x=input()\n",
        "print(x)"
      ],
      "metadata": {
        "id": "VrsUTNQ2vEUz"
      },
      "execution_count": null,
      "outputs": []
    },
    {
      "cell_type": "markdown",
      "source": [
        "Example5\n",
        "\n",
        "공백 2개이상의 문장을 입력 받고 이를 공백을 기준으로(단어별) 구분하여 출력하시오."
      ],
      "metadata": {
        "id": "_B725-dEvi8o"
      }
    },
    {
      "cell_type": "code",
      "source": [
        "x=input()\n",
        "xword=x.split( )\n",
        "print(xword)\n"
      ],
      "metadata": {
        "colab": {
          "base_uri": "https://localhost:8080/"
        },
        "id": "vd66rvmXvzb5",
        "outputId": "a95f546e-3401-4f24-9677-881a860ed741"
      },
      "execution_count": 7,
      "outputs": [
        {
          "output_type": "stream",
          "name": "stdout",
          "text": [
            "adsf adf eref \n",
            "['adsf', 'adf', 'eref']\n",
            "['adsf']\n"
          ]
        }
      ]
    }
  ]
}